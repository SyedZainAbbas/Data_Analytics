{
  "cells": [
    {
      "cell_type": "code",
      "execution_count": null,
      "id": "f44512f7",
      "metadata": {
        "id": "f44512f7"
      },
      "outputs": [],
      "source": [
        "import numpy as np\n",
        "import pandas as pd"
      ]
    },
    {
      "cell_type": "markdown",
      "id": "99f0d9a4",
      "metadata": {
        "id": "99f0d9a4"
      },
      "source": [
        "# 1. Data Aggregation"
      ]
    },
    {
      "cell_type": "markdown",
      "id": "8dc9b098",
      "metadata": {
        "id": "8dc9b098"
      },
      "source": [
        "## 1.1. Aggregating Statistics"
      ]
    },
    {
      "cell_type": "code",
      "execution_count": null,
      "id": "20363819",
      "metadata": {
        "id": "20363819"
      },
      "outputs": [],
      "source": [
        "a = [[76, 52, 57], [81, 73, 97], [90, 92, 80],\n",
        "     [np.NaN, 73, 92],[81, np.NaN, 57], [65, 95, 61]]\n",
        "df = pd.DataFrame(a, columns=['A','B','C'])\n",
        "df"
      ]
    },
    {
      "cell_type": "markdown",
      "id": "6f60bf08",
      "metadata": {
        "id": "6f60bf08"
      },
      "source": [
        "#### Aggregating Statistics, Column-wise, Single column"
      ]
    },
    {
      "cell_type": "code",
      "execution_count": null,
      "id": "ee4b1240",
      "metadata": {
        "id": "ee4b1240"
      },
      "outputs": [],
      "source": [
        "df['A'].count()"
      ]
    },
    {
      "cell_type": "code",
      "execution_count": null,
      "id": "e1a270d9",
      "metadata": {
        "id": "e1a270d9"
      },
      "outputs": [],
      "source": [
        "df['A'].sum()"
      ]
    },
    {
      "cell_type": "code",
      "execution_count": null,
      "id": "cc44edd8",
      "metadata": {
        "id": "cc44edd8"
      },
      "outputs": [],
      "source": [
        "df['A'].mean()"
      ]
    },
    {
      "cell_type": "code",
      "execution_count": null,
      "id": "6ed41786",
      "metadata": {
        "id": "6ed41786"
      },
      "outputs": [],
      "source": [
        "df['A'].min()"
      ]
    },
    {
      "cell_type": "code",
      "execution_count": null,
      "id": "b854e23e",
      "metadata": {
        "id": "b854e23e"
      },
      "outputs": [],
      "source": [
        "df['A'].max()"
      ]
    },
    {
      "cell_type": "code",
      "execution_count": null,
      "id": "56d89eb6",
      "metadata": {
        "id": "56d89eb6"
      },
      "outputs": [],
      "source": [
        "df['A'].median()"
      ]
    },
    {
      "cell_type": "code",
      "execution_count": null,
      "id": "f7dec1d7",
      "metadata": {
        "id": "f7dec1d7"
      },
      "outputs": [],
      "source": [
        "df['A'].var()"
      ]
    },
    {
      "cell_type": "code",
      "execution_count": null,
      "id": "3049ae3e",
      "metadata": {
        "id": "3049ae3e"
      },
      "outputs": [],
      "source": [
        "df['A'].std()"
      ]
    },
    {
      "cell_type": "code",
      "execution_count": null,
      "id": "ec1c0f5a",
      "metadata": {
        "id": "ec1c0f5a"
      },
      "outputs": [],
      "source": [
        "df['A'].mode().iloc[0]"
      ]
    },
    {
      "cell_type": "code",
      "execution_count": null,
      "id": "236d71b4",
      "metadata": {
        "id": "236d71b4"
      },
      "outputs": [],
      "source": [
        "df['A'].describe()"
      ]
    },
    {
      "cell_type": "markdown",
      "id": "2005953e",
      "metadata": {
        "id": "2005953e"
      },
      "source": [
        "#### Aggregating Statistics, Column-wise, Multiple columns"
      ]
    },
    {
      "cell_type": "code",
      "execution_count": null,
      "id": "a87a94f3",
      "metadata": {
        "id": "a87a94f3"
      },
      "outputs": [],
      "source": [
        "df[['A','C']].count()"
      ]
    },
    {
      "cell_type": "code",
      "execution_count": null,
      "id": "77128d2f",
      "metadata": {
        "id": "77128d2f"
      },
      "outputs": [],
      "source": [
        "df[['A','C']].sum()"
      ]
    },
    {
      "cell_type": "code",
      "execution_count": null,
      "id": "d77d91a6",
      "metadata": {
        "id": "d77d91a6"
      },
      "outputs": [],
      "source": [
        "df[['A','C']].mean()"
      ]
    },
    {
      "cell_type": "code",
      "execution_count": null,
      "id": "c3c098c4",
      "metadata": {
        "id": "c3c098c4"
      },
      "outputs": [],
      "source": [
        "df[['A','C']].min()"
      ]
    },
    {
      "cell_type": "code",
      "execution_count": null,
      "id": "b36d9376",
      "metadata": {
        "id": "b36d9376"
      },
      "outputs": [],
      "source": [
        "df[['A','C']].max()"
      ]
    },
    {
      "cell_type": "code",
      "execution_count": null,
      "id": "98b4a2a7",
      "metadata": {
        "id": "98b4a2a7"
      },
      "outputs": [],
      "source": [
        "df[['A','C']].median()"
      ]
    },
    {
      "cell_type": "code",
      "execution_count": null,
      "id": "602e8f89",
      "metadata": {
        "id": "602e8f89"
      },
      "outputs": [],
      "source": [
        "df[['A','C']].var()"
      ]
    },
    {
      "cell_type": "code",
      "execution_count": null,
      "id": "b3ca1d21",
      "metadata": {
        "id": "b3ca1d21"
      },
      "outputs": [],
      "source": [
        "df[['A','C']].std()"
      ]
    },
    {
      "cell_type": "code",
      "execution_count": null,
      "id": "56e72e1a",
      "metadata": {
        "id": "56e72e1a"
      },
      "outputs": [],
      "source": [
        "df[['A','C']].mode()"
      ]
    },
    {
      "cell_type": "code",
      "execution_count": null,
      "id": "04f529e6",
      "metadata": {
        "id": "04f529e6"
      },
      "outputs": [],
      "source": [
        "df[['A','C']].describe()"
      ]
    },
    {
      "cell_type": "markdown",
      "id": "e5cd11df",
      "metadata": {
        "id": "e5cd11df"
      },
      "source": [
        "#### Aggregating Statistics, Column-wise, All columns"
      ]
    },
    {
      "cell_type": "code",
      "execution_count": null,
      "id": "30eda07d",
      "metadata": {
        "id": "30eda07d"
      },
      "outputs": [],
      "source": [
        "df.count()"
      ]
    },
    {
      "cell_type": "code",
      "execution_count": null,
      "id": "ce20d0b0",
      "metadata": {
        "id": "ce20d0b0"
      },
      "outputs": [],
      "source": [
        "df.sum()"
      ]
    },
    {
      "cell_type": "code",
      "execution_count": null,
      "id": "78d703e0",
      "metadata": {
        "id": "78d703e0"
      },
      "outputs": [],
      "source": [
        "df.mean()"
      ]
    },
    {
      "cell_type": "code",
      "execution_count": null,
      "id": "48b3b773",
      "metadata": {
        "id": "48b3b773"
      },
      "outputs": [],
      "source": [
        "df.min()"
      ]
    },
    {
      "cell_type": "code",
      "execution_count": null,
      "id": "7e1d27bb",
      "metadata": {
        "id": "7e1d27bb"
      },
      "outputs": [],
      "source": [
        "df.max()"
      ]
    },
    {
      "cell_type": "code",
      "execution_count": null,
      "id": "2108f134",
      "metadata": {
        "id": "2108f134"
      },
      "outputs": [],
      "source": [
        "df.median()"
      ]
    },
    {
      "cell_type": "code",
      "execution_count": null,
      "id": "d2fd2d7e",
      "metadata": {
        "id": "d2fd2d7e"
      },
      "outputs": [],
      "source": [
        "df.var()"
      ]
    },
    {
      "cell_type": "code",
      "execution_count": null,
      "id": "fb856095",
      "metadata": {
        "id": "fb856095"
      },
      "outputs": [],
      "source": [
        "df.std()"
      ]
    },
    {
      "cell_type": "code",
      "execution_count": null,
      "id": "96f5fe70",
      "metadata": {
        "id": "96f5fe70"
      },
      "outputs": [],
      "source": [
        "df.mode()"
      ]
    },
    {
      "cell_type": "code",
      "execution_count": null,
      "id": "083f0ed0",
      "metadata": {
        "id": "083f0ed0"
      },
      "outputs": [],
      "source": [
        "df.describe()"
      ]
    },
    {
      "cell_type": "markdown",
      "id": "79ba7448",
      "metadata": {
        "id": "79ba7448"
      },
      "source": [
        "#### Aggregating Statistics, Row-wise"
      ]
    },
    {
      "cell_type": "code",
      "execution_count": null,
      "id": "42e359e0",
      "metadata": {
        "id": "42e359e0"
      },
      "outputs": [],
      "source": [
        "df.sum(axis=1)"
      ]
    },
    {
      "cell_type": "code",
      "execution_count": null,
      "id": "bfcb3a53",
      "metadata": {
        "id": "bfcb3a53"
      },
      "outputs": [],
      "source": [
        "df.mean(axis=1)"
      ]
    },
    {
      "cell_type": "code",
      "execution_count": null,
      "id": "4c434fb8",
      "metadata": {
        "id": "4c434fb8"
      },
      "outputs": [],
      "source": [
        "df.loc[2:3].mean(axis=1)"
      ]
    },
    {
      "cell_type": "code",
      "execution_count": null,
      "id": "b3a92f70",
      "metadata": {
        "id": "b3a92f70"
      },
      "outputs": [],
      "source": [
        "df.iloc[3:5].mean(axis=1)"
      ]
    },
    {
      "cell_type": "markdown",
      "id": "4aa7a51c",
      "metadata": {
        "id": "4aa7a51c"
      },
      "source": [
        "#### Aggregating Statistics, `agg()` function\n",
        "\n",
        "`agg()` function allows us to aggregate using one or more operations over a specified axis"
      ]
    },
    {
      "cell_type": "code",
      "execution_count": null,
      "id": "837ac8fa",
      "metadata": {
        "id": "837ac8fa"
      },
      "outputs": [],
      "source": [
        "df.agg(['sum','mean'])"
      ]
    },
    {
      "cell_type": "code",
      "execution_count": null,
      "id": "586db536",
      "metadata": {
        "id": "586db536"
      },
      "outputs": [],
      "source": [
        "df.agg(['sum','mean'], axis=1)"
      ]
    },
    {
      "cell_type": "code",
      "execution_count": null,
      "id": "0d133925",
      "metadata": {
        "id": "0d133925"
      },
      "outputs": [],
      "source": [
        "df.agg({'A': ['sum','min'], 'B': ['min', 'max']})"
      ]
    },
    {
      "cell_type": "code",
      "execution_count": null,
      "id": "07a794b3",
      "metadata": {
        "id": "07a794b3"
      },
      "outputs": [],
      "source": [
        "df.agg(\n",
        "    {\n",
        "        \"A\": [\"count\", \"sum\"],\n",
        "        \"B\": [\"min\", \"max\", \"mean\", \"median\"],\n",
        "        \"C\": [\"sum\", \"mean\", \"median\"]\n",
        "    }\n",
        ")"
      ]
    },
    {
      "cell_type": "markdown",
      "id": "0d303232",
      "metadata": {
        "id": "0d303232"
      },
      "source": [
        "## 1.2. Group By"
      ]
    },
    {
      "cell_type": "markdown",
      "id": "d61854c3",
      "metadata": {
        "id": "d61854c3"
      },
      "source": [
        "Aggregating statistics grouped by category\n",
        "\n",
        "The `groupby()` method is applied on one or more columns to make a group per category.\n",
        " "
      ]
    },
    {
      "cell_type": "markdown",
      "id": "32601614",
      "metadata": {
        "id": "32601614"
      },
      "source": [
        "In a store, there are many items..\n",
        "* An item has a **Type** and a **Color**\n",
        "\n",
        "We have a dataset of items, with the **quantity** of each item"
      ]
    },
    {
      "cell_type": "code",
      "execution_count": null,
      "id": "1ae277c9",
      "metadata": {
        "id": "1ae277c9"
      },
      "outputs": [],
      "source": [
        "data = [('S-56', 'A', 'Red',    234), ('S-57', 'A', 'Blue',   432),\n",
        "        ('S-58', 'A', 'Orange', 902), ('S-59', 'A', 'Red',    340),\n",
        "        ('S-60', 'B', 'Yellow', 253), ('S-61', 'B', 'Red',    232), \n",
        "        ('S-62', 'C', 'Green', 1042), ('S-63', 'C', 'Red',   1204),\n",
        "        ('S-64', 'B', 'Yellow', 432), ('S-65', 'C', 'Green',  985)]\n",
        "items = pd.DataFrame(data, columns=['item', 'type', 'color', 'quantity'])\n",
        "items"
      ]
    },
    {
      "cell_type": "markdown",
      "id": "0b74fb03",
      "metadata": {
        "id": "0b74fb03"
      },
      "source": [
        "**Question**. Find the sum of quantities for each Type\n",
        "\n",
        "Approach:\n",
        "1. Split the dataset into groups (per Type)\n",
        "2. Apply `sum()` function to each group independently\n",
        "3. Combine the results into a data structure"
      ]
    },
    {
      "cell_type": "code",
      "execution_count": null,
      "id": "81551476",
      "metadata": {
        "id": "81551476"
      },
      "outputs": [],
      "source": [
        "items.groupby('type').sum()"
      ]
    },
    {
      "cell_type": "markdown",
      "id": "785fa8b5",
      "metadata": {
        "id": "785fa8b5"
      },
      "source": [
        "**Question**. Find the sum of quantities for each Color"
      ]
    },
    {
      "cell_type": "code",
      "execution_count": null,
      "id": "f9670a1c",
      "metadata": {
        "id": "f9670a1c"
      },
      "outputs": [],
      "source": [
        "items.groupby('color').sum()"
      ]
    },
    {
      "cell_type": "markdown",
      "id": "68181040",
      "metadata": {
        "id": "68181040"
      },
      "source": [
        "**Question**. How many items are there of each Type?"
      ]
    },
    {
      "cell_type": "code",
      "execution_count": null,
      "id": "8d428b95",
      "metadata": {
        "id": "8d428b95"
      },
      "outputs": [],
      "source": [
        "items.groupby('type').count()"
      ]
    },
    {
      "cell_type": "code",
      "execution_count": null,
      "id": "ccd220ed",
      "metadata": {
        "id": "ccd220ed"
      },
      "outputs": [],
      "source": [
        "items.groupby('type').count()['item']"
      ]
    },
    {
      "cell_type": "code",
      "execution_count": null,
      "id": "25a89232",
      "metadata": {
        "id": "25a89232"
      },
      "outputs": [],
      "source": [
        "items.groupby('type').count()['item'].reset_index()"
      ]
    },
    {
      "cell_type": "markdown",
      "id": "e2a0e9a0",
      "metadata": {
        "id": "e2a0e9a0"
      },
      "source": [
        "`value_counts()` is a convenient shortcut to count the number of entries in each category"
      ]
    },
    {
      "cell_type": "code",
      "execution_count": null,
      "id": "4489f36c",
      "metadata": {
        "id": "4489f36c"
      },
      "outputs": [],
      "source": [
        "items['type'].value_counts()"
      ]
    },
    {
      "cell_type": "markdown",
      "id": "b73f6850",
      "metadata": {
        "id": "b73f6850"
      },
      "source": [
        "**Question**. How many items are there for each (Type,Color ) combination ?"
      ]
    },
    {
      "cell_type": "code",
      "execution_count": null,
      "id": "c6e0f7e9",
      "metadata": {
        "id": "c6e0f7e9"
      },
      "outputs": [],
      "source": [
        "items.groupby(['type','color']).count()"
      ]
    },
    {
      "cell_type": "code",
      "execution_count": null,
      "id": "15f4deca",
      "metadata": {
        "id": "15f4deca"
      },
      "outputs": [],
      "source": [
        "items.groupby(['type','color']).count()['item'].reset_index()"
      ]
    },
    {
      "cell_type": "markdown",
      "id": "0217c217",
      "metadata": {
        "id": "0217c217"
      },
      "source": [
        "**Question**. Find the sum of quantities for each (Type,Color ) combination ?"
      ]
    },
    {
      "cell_type": "code",
      "execution_count": null,
      "id": "5b06ca0a",
      "metadata": {
        "id": "5b06ca0a"
      },
      "outputs": [],
      "source": [
        "items.groupby(['type','color']).sum()"
      ]
    },
    {
      "cell_type": "code",
      "execution_count": null,
      "id": "fde1e8e4",
      "metadata": {
        "id": "fde1e8e4"
      },
      "outputs": [],
      "source": [
        "items.groupby(['type','color']).sum().reset_index()"
      ]
    },
    {
      "cell_type": "markdown",
      "id": "6525b00a",
      "metadata": {
        "id": "6525b00a"
      },
      "source": [
        "We can also choose to include NA in group keys or not by setting `dropna` parameter, the default setting is `True`"
      ]
    },
    {
      "cell_type": "code",
      "execution_count": null,
      "id": "625ff5b4",
      "metadata": {
        "id": "625ff5b4"
      },
      "outputs": [],
      "source": [
        "l = [[1, 2, 3], [1, None, 4], [2, 1, 3], [1, 2, 2]]\n",
        "df = pd.DataFrame(l, columns=[\"a\", \"b\", \"c\"])\n",
        "df"
      ]
    },
    {
      "cell_type": "code",
      "execution_count": null,
      "id": "c422cec8",
      "metadata": {
        "id": "c422cec8"
      },
      "outputs": [],
      "source": [
        "df.groupby(by=[\"b\"]).sum()"
      ]
    },
    {
      "cell_type": "code",
      "execution_count": null,
      "id": "32cfc552",
      "metadata": {
        "id": "32cfc552"
      },
      "outputs": [],
      "source": [
        "df.groupby(by=[\"b\"], dropna=False).sum()"
      ]
    },
    {
      "cell_type": "markdown",
      "id": "bb3ead5b",
      "metadata": {
        "id": "bb3ead5b"
      },
      "source": [
        "### Contingency Table"
      ]
    },
    {
      "cell_type": "code",
      "execution_count": null,
      "id": "ac1e7c6a",
      "metadata": {
        "id": "ac1e7c6a"
      },
      "outputs": [],
      "source": [
        "pd.crosstab(items['type'], items['color'])"
      ]
    },
    {
      "cell_type": "code",
      "execution_count": null,
      "id": "c42c7092",
      "metadata": {
        "id": "c42c7092"
      },
      "outputs": [],
      "source": []
    },
    {
      "cell_type": "markdown",
      "id": "b35ef225",
      "metadata": {
        "id": "b35ef225"
      },
      "source": [
        "# 2. Data Merging"
      ]
    },
    {
      "cell_type": "markdown",
      "id": "43136c3f",
      "metadata": {
        "id": "43136c3f"
      },
      "source": [
        "### 2.1. Concat"
      ]
    },
    {
      "cell_type": "code",
      "execution_count": null,
      "id": "383962b9",
      "metadata": {
        "id": "383962b9"
      },
      "outputs": [],
      "source": [
        "d1 = [('Operations',      2019, 35000),\n",
        "      ('Research',        2019, 45000),\n",
        "      ('Development',     2019, 45000),\n",
        "      ('Human Resources', 2019, 25800)]\n",
        "df1 = pd.DataFrame(d1, columns=('Department','Year','Budget'))\n",
        "df1"
      ]
    },
    {
      "cell_type": "code",
      "execution_count": null,
      "id": "823a957b",
      "metadata": {
        "id": "823a957b"
      },
      "outputs": [],
      "source": [
        "d2 = [('Operations',      2020, 36500),\n",
        "      ('Research',        2020, 44000),\n",
        "      ('Development',     2020, 55000),\n",
        "      ('Human Resources', 2020, 37500)]\n",
        "df2 = pd.DataFrame(d2, columns=('Department','Year','Budget'))\n",
        "df2"
      ]
    },
    {
      "cell_type": "code",
      "execution_count": null,
      "id": "4e70444e",
      "metadata": {
        "id": "4e70444e"
      },
      "outputs": [],
      "source": [
        "df = pd.concat([df1, df2])\n",
        "df"
      ]
    },
    {
      "cell_type": "code",
      "execution_count": null,
      "id": "68360b0b",
      "metadata": {
        "id": "68360b0b"
      },
      "outputs": [],
      "source": [
        "df = pd.concat([df1, df2], ignore_index=True)\n",
        "df"
      ]
    },
    {
      "cell_type": "code",
      "execution_count": null,
      "id": "c63f7712",
      "metadata": {
        "id": "c63f7712"
      },
      "outputs": [],
      "source": [
        "d3 = [('Operations',      2021, 44000, 'Dirk'),\n",
        "      ('Research',        2021, 52000, 'Elisa'),\n",
        "      ('Development',     2021, 37000, 'Jan'),\n",
        "      ('Human Resources', 2021, 40500, 'Mary')]\n",
        "df3 = pd.DataFrame(d3, columns=('Department','Year','Budget', 'Manager'))\n",
        "df3"
      ]
    },
    {
      "cell_type": "code",
      "execution_count": null,
      "id": "4240ad50",
      "metadata": {
        "id": "4240ad50"
      },
      "outputs": [],
      "source": [
        "df = pd.concat([df1, df2, df3], ignore_index=True)\n",
        "df"
      ]
    },
    {
      "cell_type": "code",
      "execution_count": null,
      "id": "4a325525",
      "metadata": {
        "id": "4a325525"
      },
      "outputs": [],
      "source": [
        "d1 = {'S1':[65, 80, 85], 'S2':[70, 90, 76]}\n",
        "df1 = pd.DataFrame(d1, index = ['Math', 'Physics', 'English'])\n",
        "df1"
      ]
    },
    {
      "cell_type": "code",
      "execution_count": null,
      "id": "f53d3110",
      "metadata": {
        "id": "f53d3110"
      },
      "outputs": [],
      "source": [
        "d2 = {'S3':[53, 84, 95], 'S4':[72, 92, 63]}\n",
        "df2 = pd.DataFrame(d2, index = ['Math', 'Physics', 'English'])\n",
        "df2"
      ]
    },
    {
      "cell_type": "code",
      "execution_count": null,
      "id": "90eb8ee3",
      "metadata": {
        "id": "90eb8ee3"
      },
      "outputs": [],
      "source": [
        "df = pd.concat([df1, df2], axis=1)\n",
        "df"
      ]
    },
    {
      "cell_type": "code",
      "execution_count": null,
      "id": "d2bda03d",
      "metadata": {
        "id": "d2bda03d"
      },
      "outputs": [],
      "source": [
        "d3 = {'S5':[69, 84, 77, 90], 'S6':[85, 72, 52, 69], 'S7':[33, 81, 65, 73]}\n",
        "df3 = pd.DataFrame(d3, index = ['Math', 'Physics', 'History', 'English'])\n",
        "df3"
      ]
    },
    {
      "cell_type": "code",
      "execution_count": null,
      "id": "40b5aa88",
      "metadata": {
        "id": "40b5aa88"
      },
      "outputs": [],
      "source": [
        "df = pd.concat([df1, df2, df3], axis=1)\n",
        "df"
      ]
    },
    {
      "cell_type": "markdown",
      "id": "5aadcb6a",
      "metadata": {
        "id": "5aadcb6a"
      },
      "source": [
        "### 2.2. Merge (aka: join)"
      ]
    },
    {
      "cell_type": "code",
      "execution_count": null,
      "id": "10df47c2",
      "metadata": {
        "id": "10df47c2"
      },
      "outputs": [],
      "source": [
        "cities = [('Munich','Germany'), ('Liverpool','UK'), ('Lyon','France'),\n",
        "          ('Frankfurt','Germany'), ('Napoli','Italy'), ('London','UK')]\n",
        "dfc = pd.DataFrame(cities, columns=['City','Country'])\n",
        "dfc"
      ]
    },
    {
      "cell_type": "code",
      "execution_count": null,
      "id": "8f09eb0a",
      "metadata": {
        "id": "8f09eb0a"
      },
      "outputs": [],
      "source": [
        "countries=[('Germany', 83783942, 357588), ('UK', 67886011, 242495),\n",
        "           ('France', 65273511, 543940), ('Italy', 60317116, 301340)]\n",
        "dfy = pd.DataFrame(countries, columns=['Country','Population','Area'])\n",
        "dfy"
      ]
    },
    {
      "cell_type": "code",
      "execution_count": null,
      "id": "5dff63ce",
      "metadata": {
        "id": "5dff63ce"
      },
      "outputs": [],
      "source": [
        "dfc.merge(dfy, on='Country')"
      ]
    },
    {
      "cell_type": "code",
      "execution_count": null,
      "id": "2eec18a1",
      "metadata": {
        "id": "2eec18a1"
      },
      "outputs": [],
      "source": []
    },
    {
      "cell_type": "code",
      "execution_count": null,
      "id": "7cef7d12",
      "metadata": {
        "id": "7cef7d12"
      },
      "outputs": [],
      "source": [
        "data1 = [('Steve','Frank'), ('Greg','Kim'), ('Greg','Phil'), \n",
        "         ('Frank','Andy'), ('Frank','Rob')]\n",
        "dff = pd.DataFrame(data1, columns=['Father','Child'])\n",
        "dff"
      ]
    },
    {
      "cell_type": "code",
      "execution_count": null,
      "id": "8400228e",
      "metadata": {
        "id": "8400228e"
      },
      "outputs": [],
      "source": [
        "data2 = [('Lisa','Mary'), ('Lisa','Greg'), ('Anne','Kim'), \n",
        "         ('Anne','Phil'), ('Mary','Andy'), ('Mary','Rob')]\n",
        "dfm = pd.DataFrame(data2, columns=['Mother','Child'])\n",
        "dfm"
      ]
    },
    {
      "cell_type": "code",
      "execution_count": null,
      "id": "7a2e37c7",
      "metadata": {
        "id": "7a2e37c7"
      },
      "outputs": [],
      "source": [
        "#### Inner join\n",
        "dff.merge(dfm, on='Child')"
      ]
    },
    {
      "cell_type": "code",
      "execution_count": null,
      "id": "20187fd6",
      "metadata": {
        "id": "20187fd6"
      },
      "outputs": [],
      "source": [
        "#### Left join\n",
        "dff.merge(dfm, on='Child', how='left')"
      ]
    },
    {
      "cell_type": "code",
      "execution_count": null,
      "id": "72e1f22a",
      "metadata": {
        "id": "72e1f22a"
      },
      "outputs": [],
      "source": [
        "# Right join\n",
        "dff.merge(dfm, on='Child', how='right')"
      ]
    },
    {
      "cell_type": "code",
      "execution_count": null,
      "id": "df54a4fe",
      "metadata": {
        "id": "df54a4fe"
      },
      "outputs": [],
      "source": [
        "# Outer join\n",
        "dff.merge(dfm, on='Child', how='outer')"
      ]
    },
    {
      "cell_type": "code",
      "execution_count": null,
      "id": "8a4cb2fd",
      "metadata": {
        "id": "8a4cb2fd"
      },
      "outputs": [],
      "source": [
        "data3 = [('Andy',27,21), ('Rob',25,15), ('Mary',55,42), ('Anne',50,35), \n",
        "         ('Phil',26,30), ('Greg',50,40), ('Frank',57,20), ('Kim',30,41), \n",
        "         ('Mike',85,35), ('Lisa',75,87), ('Steve',80,23)]\n",
        "dfp = pd.DataFrame(data3, columns=['Name','Age','Income'])\n",
        "dfp"
      ]
    },
    {
      "cell_type": "code",
      "execution_count": null,
      "id": "f597354d",
      "metadata": {
        "id": "f597354d"
      },
      "outputs": [],
      "source": [
        "df = dfp.merge(dff, left_on='Name', right_on='Child')\n",
        "df"
      ]
    },
    {
      "cell_type": "code",
      "execution_count": null,
      "id": "da1ca01e",
      "metadata": {
        "id": "da1ca01e"
      },
      "outputs": [],
      "source": []
    },
    {
      "cell_type": "code",
      "execution_count": null,
      "id": "96568706",
      "metadata": {
        "id": "96568706"
      },
      "outputs": [],
      "source": []
    },
    {
      "cell_type": "code",
      "execution_count": null,
      "id": "d2083414",
      "metadata": {
        "id": "d2083414"
      },
      "outputs": [],
      "source": [
        "d1=[('S-56', 'A', 'Red',    234), ('S-57', 'A', 'Blue',   432),\n",
        "    ('S-58', 'A', 'Orange', 902), ('S-59', 'A', 'Red',    340),\n",
        "    ('S-60', 'B', 'Yellow', 253), ('S-61', 'B', 'Red',    232), \n",
        "    ('S-62', 'C', 'Green', 1042), ('S-63', 'C', 'Red',   1204),\n",
        "    ('S-64', 'B', 'Yellow', 432), ('S-65', 'C', 'Green',  985)]\n",
        "items = pd.DataFrame(d1, columns=['item', 'type', 'color', 'quantity'])\n",
        "items"
      ]
    },
    {
      "cell_type": "code",
      "execution_count": null,
      "id": "57e2a423",
      "metadata": {
        "id": "57e2a423"
      },
      "outputs": [],
      "source": [
        "d2 = [('A','Red',    34.50), ('A', 'Blue', 53.00), \n",
        "      ('A','Orange', 62.25), ('B', 'Yellow', 35.25),\n",
        "      ('B', 'Red',   23.45), ('C', 'Red', 61.50),\n",
        "      ('C', 'Green', 72.20)]\n",
        "prices = pd.DataFrame(d2, columns=['type', 'color', 'price'])\n",
        "prices"
      ]
    },
    {
      "cell_type": "code",
      "execution_count": null,
      "id": "d85bf022",
      "metadata": {
        "id": "d85bf022"
      },
      "outputs": [],
      "source": [
        "df = items.merge(prices, on=['type','color'])\n",
        "df"
      ]
    },
    {
      "cell_type": "markdown",
      "id": "586bb955",
      "metadata": {
        "id": "586bb955"
      },
      "source": [
        "**Exercise** Find the total price of all items: sum(quantity * price)"
      ]
    },
    {
      "cell_type": "code",
      "execution_count": null,
      "id": "51c5bbb0",
      "metadata": {
        "id": "51c5bbb0"
      },
      "outputs": [],
      "source": []
    },
    {
      "cell_type": "code",
      "execution_count": null,
      "id": "31d691e0",
      "metadata": {
        "id": "31d691e0"
      },
      "outputs": [],
      "source": []
    }
  ],
  "metadata": {
    "kernelspec": {
      "display_name": "Python 3 (ipykernel)",
      "language": "python",
      "name": "python3"
    },
    "language_info": {
      "codemirror_mode": {
        "name": "ipython",
        "version": 3
      },
      "file_extension": ".py",
      "mimetype": "text/x-python",
      "name": "python",
      "nbconvert_exporter": "python",
      "pygments_lexer": "ipython3",
      "version": "3.7.11"
    },
    "colab": {
      "provenance": []
    }
  },
  "nbformat": 4,
  "nbformat_minor": 5
}