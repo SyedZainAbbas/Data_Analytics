{
 "cells": [
  {
   "cell_type": "markdown",
   "id": "4c147652",
   "metadata": {},
   "source": [
    "### Question 1\n",
    "\n",
    "A shop is selling some products ..\n",
    "* For each product, we have its name, **quantity**, and **unit price**\n",
    "* These informations are organized as a list of tuples\n",
    "* i.e., each tuple represents a product, e.g., `('Product1', 32, 2.18)`"
   ]
  },
  {
   "cell_type": "code",
   "execution_count": 1,
   "id": "84cf393b",
   "metadata": {},
   "outputs": [],
   "source": [
    "sales = [('Product1', 32, 2.18), ('Product2', 20, 3.90), \n",
    "         ('Product3', 16, 1.46), ('Product4', 56, 2.84), \n",
    "         ('Product5', 24, 2.70), ('Product6', 34, 0.66)]"
   ]
  },
  {
   "cell_type": "markdown",
   "id": "25eec7ea",
   "metadata": {},
   "source": [
    "We want to calculate the total price of all products\n",
    "* Notice that the price of each product is the quantity * unit price\n",
    "* (The result should be 417.4)"
   ]
  },
  {
   "cell_type": "code",
   "execution_count": 14,
   "id": "127eebac",
   "metadata": {},
   "outputs": [
    {
     "data": {
      "text/plain": [
       "417.4"
      ]
     },
     "execution_count": 14,
     "metadata": {},
     "output_type": "execute_result"
    }
   ],
   "source": [
    "# write your code here\n",
    "total_price = 0\n",
    "name, quant, price = zip(*sales)\n",
    "for i in range(0,len(quant)): \n",
    "    total_price += quant[i] * price[i]\n",
    "total_price"
   ]
  },
  {
   "cell_type": "code",
   "execution_count": 17,
   "id": "65a1dbe9",
   "metadata": {},
   "outputs": [
    {
     "data": {
      "text/plain": [
       "417.4"
      ]
     },
     "execution_count": 17,
     "metadata": {},
     "output_type": "execute_result"
    }
   ],
   "source": [
    "# Better solution\n",
    "total_price = 0\n",
    "for item in sales: \n",
    "    total_price += item[1] * item[2]\n",
    "total_price"
   ]
  },
  {
   "cell_type": "markdown",
   "id": "edc71d56",
   "metadata": {},
   "source": [
    "**Challenge** \n",
    "\n",
    "Try to answer the question in **one** line of code only (hint: use comprehensions)"
   ]
  },
  {
   "cell_type": "code",
   "execution_count": 13,
   "id": "0ebe7aaa",
   "metadata": {},
   "outputs": [
    {
     "data": {
      "text/plain": [
       "417.4"
      ]
     },
     "execution_count": 13,
     "metadata": {},
     "output_type": "execute_result"
    }
   ],
   "source": [
    "# write your code here\n",
    "sum([i[1]*i[2] for i in sales])"
   ]
  },
  {
   "cell_type": "markdown",
   "id": "05e8fb71",
   "metadata": {},
   "source": [
    "### Question 2\n",
    "\n",
    "In a store, there are many items..\n",
    "* Each item has a name, a **type**, a **color**, and the **quantity** of each item\n",
    "* These informations are organized as a list of tuples\n",
    "* i.e., each tuple represents an item, e.g., `('S-56', 'A', 'Red', 234)`"
   ]
  },
  {
   "cell_type": "code",
   "execution_count": 18,
   "id": "6d4fb0a1",
   "metadata": {},
   "outputs": [],
   "source": [
    "data = [('S-56', 'A', 'Red',    234), ('S-57', 'A', 'Blue',   432),\n",
    "        ('S-58', 'A', 'Orange', 902), ('S-59', 'A', 'Red',    340),\n",
    "        ('S-60', 'B', 'Yellow', 253), ('S-61', 'B', 'Red',    232), \n",
    "        ('S-62', 'C', 'Green', 1042), ('S-63', 'C', 'Red',   1204),\n",
    "        ('S-64', 'B', 'Yellow', 432), ('S-65', 'C', 'Green',  985)]"
   ]
  },
  {
   "cell_type": "markdown",
   "id": "6320d37e",
   "metadata": {},
   "source": [
    "2.1. We want to find the sum of quantities by **type**\n",
    "* (The answer should be: `{'A': 1908, 'B': 917, 'C': 3231}`)"
   ]
  },
  {
   "cell_type": "code",
   "execution_count": 43,
   "id": "1fc301ed",
   "metadata": {},
   "outputs": [
    {
     "data": {
      "text/plain": [
       "{'A': 1908, 'B': 917, 'C': 3231}"
      ]
     },
     "execution_count": 43,
     "metadata": {},
     "output_type": "execute_result"
    }
   ],
   "source": [
    "# write your code here\n",
    "counts = {}\n",
    "for prod in data:\n",
    "    if prod[1] in counts.keys():\n",
    "        counts[prod[1]] += prod[3]\n",
    "    else:\n",
    "        counts[prod[1]] = prod[3] \n",
    "counts"
   ]
  },
  {
   "cell_type": "code",
   "execution_count": 41,
   "id": "48077367",
   "metadata": {},
   "outputs": [
    {
     "data": {
      "text/plain": [
       "{'A': 1908, 'B': 917, 'C': 3231}"
      ]
     },
     "execution_count": 41,
     "metadata": {},
     "output_type": "execute_result"
    }
   ],
   "source": [
    "# Better solution\n",
    "counts = {}\n",
    "for prod in data:\n",
    "    counts[prod[1]] = counts.get(prod[1],0) + prod[3]\n",
    "counts"
   ]
  },
  {
   "cell_type": "markdown",
   "id": "2c2e9929",
   "metadata": {},
   "source": [
    "2.2. We want to find the sum of quantities by **color**\n",
    "* The answer should be: \n",
    "    * `{'Red': 2010, 'Blue': 432, 'Orange': 902, 'Yellow': 685, 'Green': 2027}`"
   ]
  },
  {
   "cell_type": "code",
   "execution_count": 42,
   "id": "411dc61e",
   "metadata": {},
   "outputs": [
    {
     "data": {
      "text/plain": [
       "{'Red': 2010, 'Blue': 432, 'Orange': 902, 'Yellow': 685, 'Green': 2027}"
      ]
     },
     "execution_count": 42,
     "metadata": {},
     "output_type": "execute_result"
    }
   ],
   "source": [
    "# write your code here\n",
    "counts_color = {}\n",
    "for prod in data:\n",
    "    counts_color[prod[2]] = counts_color.get(prod[2],0) + prod[3]\n",
    "counts_color"
   ]
  },
  {
   "cell_type": "markdown",
   "id": "8f361a87",
   "metadata": {},
   "source": [
    "### Question 3\n"
   ]
  },
  {
   "cell_type": "markdown",
   "id": "nonprofit-problem",
   "metadata": {},
   "source": [
    "You work in a company, and your boss gives you a file about the budget of each department during the last three years.\n",
    "\n",
    "She/He wants you to find the total budget per department, and per year.\n",
    "\n",
    "You can easily do this simple task using Excel or Google sheets (or even manually)..\n",
    "but you opt to challenge yourslef by solving this task using your Python skills (you don't know Pandas yet, though!)"
   ]
  },
  {
   "cell_type": "markdown",
   "id": "western-terrace",
   "metadata": {},
   "source": [
    "The input file `budget.tsv` looks like this (tab-separated file):"
   ]
  },
  {
   "cell_type": "markdown",
   "id": "focal-delicious",
   "metadata": {},
   "source": [
    "`Department      2019   2020    2021`\n",
    "\n",
    "`Operations      35000\t36500\t44000`\n",
    "\n",
    "`Research        45000\t44000\t52000`\n",
    "\n",
    "`Development     45000\t55000\t37000`\n",
    "\n",
    "`Human Resources 25800\t37500\t40500`"
   ]
  },
  {
   "cell_type": "markdown",
   "id": "cheap-universal",
   "metadata": {},
   "source": [
    "The first output file `sum_dept.tsv` should look like this:"
   ]
  },
  {
   "cell_type": "markdown",
   "id": "convertible-gibraltar",
   "metadata": {},
   "source": [
    "`Operations       115500`\n",
    "\n",
    "`Research         141000`\n",
    "\n",
    "`Development      137000`\n",
    "\n",
    "`Human Resources  103800`"
   ]
  },
  {
   "cell_type": "markdown",
   "id": "signal-seattle",
   "metadata": {},
   "source": [
    "The second output file `sum_year.tsv` should look like this:"
   ]
  },
  {
   "cell_type": "markdown",
   "id": "innocent-editor",
   "metadata": {},
   "source": [
    "`2019\t150800`\n",
    "\n",
    "`2020\t173000`\n",
    "\n",
    "`2021\t173500`"
   ]
  },
  {
   "cell_type": "code",
   "execution_count": 102,
   "id": "specific-passage",
   "metadata": {},
   "outputs": [],
   "source": [
    "# write your code here: SUM_DEPT\n",
    "with open('budget.tsv') as file:\n",
    "    lines = [line.strip().split('\\t') for line in file.readlines()]\n",
    "with open('sum_dept.tsv','w') as f:\n",
    "    for line in lines[1:]:\n",
    "        f.write(f'{line[0]} {int(line[1]) + int(line[2]) + int(line[3])}\\n')"
   ]
  },
  {
   "cell_type": "code",
   "execution_count": 103,
   "id": "intense-parking",
   "metadata": {},
   "outputs": [],
   "source": [
    "# write your code here: SUM_YEAR\n",
    "with open('budget.tsv') as file:\n",
    "    lines = [line.strip().split('\\t') for line in file.readlines()]\n",
    "with open('sum_year.tsv','w') as f:\n",
    "    for line in zip(*lines):\n",
    "        try:\n",
    "            f.write(f'{line[0]} {int(line[1]) + int(line[2]) + int(line[3])+ int(line[4])}\\n')\n",
    "        except:\n",
    "            pass"
   ]
  },
  {
   "cell_type": "code",
   "execution_count": null,
   "id": "081bcfc5",
   "metadata": {},
   "outputs": [],
   "source": []
  }
 ],
 "metadata": {
  "kernelspec": {
   "display_name": "Python 3 (ipykernel)",
   "language": "python",
   "name": "python3"
  },
  "language_info": {
   "codemirror_mode": {
    "name": "ipython",
    "version": 3
   },
   "file_extension": ".py",
   "mimetype": "text/x-python",
   "name": "python",
   "nbconvert_exporter": "python",
   "pygments_lexer": "ipython3",
   "version": "3.9.12"
  }
 },
 "nbformat": 4,
 "nbformat_minor": 5
}
